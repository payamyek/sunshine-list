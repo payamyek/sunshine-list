{
 "cells": [
  {
   "cell_type": "markdown",
   "id": "fa498e00",
   "metadata": {},
   "source": [
    "## ETL"
   ]
  },
  {
   "cell_type": "markdown",
   "id": "681b0187",
   "metadata": {},
   "source": [
    "### Extract Data"
   ]
  },
  {
   "cell_type": "code",
   "execution_count": null,
   "id": "b3f444c5",
   "metadata": {},
   "outputs": [],
   "source": [
    "import pandas as pd\n",
    "\n",
    "def extract(url: str) -> pd.DataFrame:\n",
    "    return pd.read_csv(url)"
   ]
  },
  {
   "cell_type": "markdown",
   "id": "7febfcf4",
   "metadata": {},
   "source": [
    "### Transform Data"
   ]
  },
  {
   "cell_type": "code",
   "execution_count": null,
   "id": "515e61e3",
   "metadata": {},
   "outputs": [],
   "source": [
    "from typing import Dict\n",
    "\n",
    "\n",
    "def transform(df: pd.DataFrame) -> Dict[str, pd.DataFrame]:\n",
    "    df[\"employer_id\"] = df[\"Employer\"].astype(\"category\").cat.codes\n",
    "    df[\"sector_id\"] = df[\"Sector\"].astype(\"category\").cat.codes\n",
    "    df[\"job_title_id\"] = df[\"Job Title\"].astype(\"category\").cat.codes\n",
    "\n",
    "    employee_df = df[\n",
    "        [\n",
    "            \"First Name\",\n",
    "            \"Last Name\",\n",
    "            \"Salary\",\n",
    "            \"Benefits\",\n",
    "            \"employer_id\",\n",
    "            \"sector_id\",\n",
    "            \"job_title_id\",\n",
    "        ]\n",
    "    ].rename(\n",
    "        columns={\n",
    "            \"First Name\": \"first_name\",\n",
    "            \"Last Name\": \"last_name\",\n",
    "            \"Salary\": \"salary\",\n",
    "            \"Benefits\": \"benefits\",\n",
    "        }\n",
    "    )\n",
    "\n",
    "    employer_df = (\n",
    "        df[[\"employer_id\", \"Employer\"]]\n",
    "        .rename(columns={\"employer_id\": \"id\", \"Employer\": \"name\"})\n",
    "        .drop_duplicates()\n",
    "    )\n",
    "\n",
    "    job_title_df = (\n",
    "        df[[\"Job Title\", \"job_title_id\"]]\n",
    "        .rename(columns={\"Job Title\": \"job_title\", \"job_title_id\": \"id\"})\n",
    "        .drop_duplicates()\n",
    "    )\n",
    "\n",
    "    sector_df = (\n",
    "        df[[\"Sector\", \"sector_id\"]]\n",
    "        .rename(columns={\"Sector\": \"sector\", \"sector_id\": \"id\"})\n",
    "        .drop_duplicates()\n",
    "    )\n",
    "\n",
    "    result = {\"employee\": employee_df, \"employer\": employer_df, \"job_title\": job_title_df, \"sector\": sector_df}\n",
    "    return result"
   ]
  },
  {
   "cell_type": "markdown",
   "id": "8b5a6e83",
   "metadata": {},
   "source": [
    "### Load Data"
   ]
  },
  {
   "cell_type": "code",
   "execution_count": null,
   "id": "03d14dca",
   "metadata": {},
   "outputs": [],
   "source": [
    "from sqlalchemy import create_engine\n",
    "\n",
    "def load(db_con_string: str, table_to_df: Dict[str, pd.DataFrame]):\n",
    "    engine = create_engine(db_con_string, echo=False)\n",
    "\n",
    "    with engine.connect() as con:\n",
    "        for table_name, df in table_to_df.items():\n",
    "            df.to_sql(table_name, con)"
   ]
  }
 ],
 "metadata": {
  "kernelspec": {
   "display_name": ".venv",
   "language": "python",
   "name": "python3"
  },
  "language_info": {
   "codemirror_mode": {
    "name": "ipython",
    "version": 3
   },
   "file_extension": ".py",
   "mimetype": "text/x-python",
   "name": "python",
   "nbconvert_exporter": "python",
   "pygments_lexer": "ipython3",
   "version": "3.13.0"
  }
 },
 "nbformat": 4,
 "nbformat_minor": 5
}
